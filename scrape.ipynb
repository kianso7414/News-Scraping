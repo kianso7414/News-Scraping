{
 "cells": [
  {
   "cell_type": "markdown",
   "metadata": {},
   "source": [
    "#### Requests and BeautifulSoup for news link in Nasdaq page"
   ]
  },
  {
   "cell_type": "markdown",
   "metadata": {},
   "source": [
    "The main mission of this project is to \n",
    "- scrape available news in Nasdaq page for latest day available\n",
    "- which will be used for sentiment analysis later for stocks price forcasting"
   ]
  },
  {
   "cell_type": "code",
   "execution_count": 2,
   "metadata": {},
   "outputs": [],
   "source": [
    "import requests\n",
    "from bs4 import BeautifulSoup\n",
    "\n",
    "URL = 'https://www.nasdaq.com/press-release/aegis-capital-corp.-acted-as-exclusive-placement-agent-on-a-%246-million-private'\n",
    "header = {\"User-Agent\": \"Mozilla/5.0 (X11; CrOS x86_64 12871.102.0) AppleWebKit/537.36 (KHTML, like Gecko) Chrome/81.0.4044.141 Safari/537.36\"}\n",
    "\n",
    "page = requests.get(URL, headers=header)\n",
    "soup = BeautifulSoup(page.content, 'html.parser')"
   ]
  },
  {
   "cell_type": "code",
   "execution_count": 9,
   "metadata": {},
   "outputs": [
    {
     "name": "stdout",
     "output_type": "stream",
     "text": [
      "<div class=\"body__content\">\n",
      " <p>\n",
      "  <strong>\n",
      "   <span class=\"xn-location\">\n",
      "    NEW YORK, NY\n",
      "   </span>\n",
      "   / ACCESSWIRE /\n",
      "   <span class=\"xn-chron\">\n",
      "    October 3, 2022\n",
      "   </span>\n",
      "   /\n",
      "   <span class=\"xn-org\" xn:idsrc=\"xmltag.org\" xn:value=\"ACORN:2498663924\">\n",
      "    Aegis Capital Corp.\n",
      "   </span>\n",
      "   acted as Exclusive Placement Agent on a\n",
      "   <span class=\"xn-money\">\n",
      "    $6 Million\n",
      "   </span>\n",
      "   Private Placement Priced At-the-Market for\n",
      "   <span class=\"xn-org\" xn:idsrc=\"xmltag.org\" xn:value=\"NASDAQ-NMS:SOBR\">\n",
      "    SOBR Safe, Inc.\n",
      "   </span>\n",
      "   (NASDAQ:SOBR).\n",
      "  </strong>\n",
      " </p>\n",
      " <p>\n",
      "  <strong>\n",
      "   About for\n",
      "   <span class=\"xn-org\" xn:idsrc=\"xmltag.org\" xn:value=\"NASDAQ-NMS:SOBR\">\n",
      "    SOBR Safe, Inc.\n",
      "   </span>\n",
      "  </strong>\n",
      " </p>\n",
      " <p>\n",
      "  <span class=\"xn-org\" xn:idsrc=\"xmltag.org\" xn:value=\"NASDAQ-NMS:SOBR\">\n",
      "   SOBR Safe, Inc.\n",
      "  </span>\n",
      "  develops a non-invasive alcohol detection and identity verification systems. It engages in the development of SOBRcheck, a stationary identification and alcohol monitoring product; SOBRsure, a transdermal, alcohol-detecting wearable band; and SOBRSafe software platform for non-invasive alcohol detection and identity verification. The company was founded in 2004 and is based in\n",
      "  <span class=\"xn-location\">\n",
      "   Greenwood Village, Colorado\n",
      "  </span>\n",
      "  .\n",
      " </p>\n",
      " <p>\n",
      "  For more information, please visit the Company's website:\n",
      "  <a href=\"https://pr.report/QJaDnCwb\">\n",
      "   https://sobrsafe.com\n",
      "  </a>\n",
      " </p>\n",
      " <img alt=\"SOBR Safe, Inc. Announces Pricing of $6 Million Private Placement Priced At-the-Market\" src=\"https://www.accesswire.com/users/newswire/images/718499/image.png\" style=\"width:226px;\"/>\n",
      " <p>\n",
      "  <strong>\n",
      "   About\n",
      "   <span class=\"xn-org\" xn:idsrc=\"xmltag.org\" xn:value=\"ACORN:2498663924\">\n",
      "    Aegis Capital Corporation\n",
      "   </span>\n",
      "  </strong>\n",
      " </p>\n",
      " <p>\n",
      "  <span class=\"xn-org\" xn:idsrc=\"xmltag.org\" xn:value=\"ACORN:2498663924\">\n",
      "   Aegis Capital Corporation\n",
      "  </span>\n",
      "  (\"Aegis\") has been in the wealth management and investment banking business since 1984. Aegis is dedicated to providing corporate finance, strategic advisory and related services to public and private companies across multiple sectors and regions. Aegis also provides research and sales and trading services to institutional investors. Aegis offers its investment representatives a conflict free service platform and is able to provide a full-range of products and services including investment banking, wealth management, insurance, retirement planning, structured products, private equity, alternatives, equity research, fixed income and special purpose vehicles.\n",
      " </p>\n",
      " <p>\n",
      "  For more information about this offering or Investment Banking Services please email\n",
      "  <a href=\"mailto:Banking@aegiscap.com\">\n",
      "   Banking@aegiscap.com\n",
      "  </a>\n",
      "  or call (212) 813-1010.\n",
      " </p>\n",
      " <img alt=\"Aegis Capital Corp., Monday, October 3, 2022, Press release picture\" src=\"https://www.accesswire.com/users/newswire/images/718499/image-1.png\" style=\"width:277px;\"/>\n",
      " <p>\n",
      "  <a href=\"https://pr.report/12OgQCSX\">\n",
      "   www.aegiscapcorp.com\n",
      "  </a>\n",
      " </p>\n",
      " <p>\n",
      "  Brokerage and investment advisory services are offered through\n",
      "  <span class=\"xn-org\" xn:idsrc=\"xmltag.org\" xn:value=\"ACORN:2498663924\">\n",
      "   Aegis Capital Corporation\n",
      "  </span>\n",
      "  , a member of\n",
      "  <span class=\"xn-org\">\n",
      "   FINRA\n",
      "  </span>\n",
      "  and\n",
      "  <span class=\"xn-org\">\n",
      "   SIPC\n",
      "  </span>\n",
      "  . Investment and insurance products offered are not insured by the\n",
      "  <span class=\"xn-org\">\n",
      "   FDIC\n",
      "  </span>\n",
      "  or any other federal government agency, are not deposits or other obligations of, or guaranteed by, a bank or any bank affiliate, and are subject to investment risks, including possible loss of the principal amount invested.\n",
      " </p>\n",
      " <p>\n",
      "  <strong>\n",
      "   SOURCE:\n",
      "  </strong>\n",
      "  <span class=\"xn-org\" xn:idsrc=\"xmltag.org\" xn:value=\"ACORN:2498663924\">\n",
      "   Aegis Capital Corp.\n",
      "  </span>\n",
      " </p>\n",
      " <a href=\"http://accesswire.com\">\n",
      "  accesswire.com\n",
      " </a>\n",
      " <a href=\"https://www.accesswire.com/718499/Aegis-Capital-Corp-acted-as-Exclusive-Placement-Agent-on-a-6-Million-Private-Placement-Priced-At-the-Market-for-SOBR-Safe-Inc-NASDAQSOBR\">\n",
      "  https://www.accesswire.com/718499/Aegis-Capital-Corp-acted-as-Exclusive-Placement-Agent-on-a-6-Million-Private-Placement-Priced-At-the-Market-for-SOBR-Safe-Inc-NASDAQSOBR\n",
      " </a>\n",
      "</div>\n",
      "\n"
     ]
    }
   ],
   "source": [
    "print(soup.find('div', class_='body__content').prettify())"
   ]
  },
  {
   "cell_type": "markdown",
   "metadata": {},
   "source": [
    "There is content in the scrape. However, when scraping the Nasdaq search page, it returns none in the content."
   ]
  },
  {
   "cell_type": "code",
   "execution_count": 10,
   "metadata": {},
   "outputs": [],
   "source": [
    "# Search \"Nasdaq\" most recent article\n",
    "URL = 'https://www.nasdaq.com/search?q=nasdaq&page=1&sort_by=recent&filters=article&langcode=en'\n",
    "header = {\"User-Agent\": \"Mozilla/5.0 (X11; CrOS x86_64 12871.102.0) AppleWebKit/537.36 (KHTML, like Gecko) Chrome/81.0.4044.141 Safari/537.36\"}\n",
    "\n",
    "page_s = requests.get(URL, headers=header)\n",
    "soup_s = BeautifulSoup(page.content, 'html.parser')"
   ]
  },
  {
   "cell_type": "code",
   "execution_count": 12,
   "metadata": {},
   "outputs": [
    {
     "data": {
      "text/plain": [
       "[]"
      ]
     },
     "execution_count": 12,
     "metadata": {},
     "output_type": "execute_result"
    }
   ],
   "source": [
    "soup_s.find_all('div', 'search-results__results')"
   ]
  },
  {
   "cell_type": "markdown",
   "metadata": {},
   "source": [
    "The page is dynamically generated, I will use Selenium accessing the page for directly loading and saving the content. Before that, let's check out the newspaper3k library, which provides very good functionality in summarizing articles."
   ]
  },
  {
   "cell_type": "markdown",
   "metadata": {},
   "source": [
    "For models in huggingface, they are usually trained with maximum number of tokens (e.g. 512). If the articles is too long to be tokenized, some of the content may be cut off from the tail or head, that impacts the accuracy substantially."
   ]
  },
  {
   "cell_type": "markdown",
   "metadata": {},
   "source": [
    "Newspaper3k summarize articles in sentences, in which the top 5 most common sentences will be used to summarize the article."
   ]
  },
  {
   "cell_type": "markdown",
   "metadata": {},
   "source": [
    "### Basic newspaper3k.Article"
   ]
  },
  {
   "cell_type": "code",
   "execution_count": 14,
   "metadata": {},
   "outputs": [],
   "source": [
    "from newspaper import Article\n",
    "\n",
    "#summarize 2 articles from Nasdaq search\n",
    "urls = ['https://www.nasdaq.com/articles/market-close-report%3a-nasdaq-composite-index-closes-at-10815.44-up-239.82-points',\n",
    "    'https://www.nasdaq.com/articles/thrive-acquisition-corporation-nasdaq%3athac-is-favoured-by-institutional-owners-who-hold-50'\n",
    "]\n",
    "\n",
    "full_text = []\n",
    "summary = []\n",
    "\n",
    "for url in urls:\n",
    "    article = Article(url)\n",
    "    article.download()\n",
    "    article.parse()\n",
    "    article.nlp()\n",
    "    full_text.append(article.text)\n",
    "    summary.append(article.summary)"
   ]
  },
  {
   "cell_type": "code",
   "execution_count": 15,
   "metadata": {},
   "outputs": [
    {
     "data": {
      "text/plain": [
       "'Monday’s session closes with the NASDAQ Composite Index at 10,815.44.\\nThe most active, advancers, decliners, unusual volume and most active by dollar volume can be monitored intraday on theMost Active Stocks page.\\nThe NASDAQ 100 index closed up 2.36% for the day; a total of 258.51 points.\\nThe Dow Jones index closed up 2.66% for the day; a total of 765.38 points.\\nThe views and opinions expressed herein are the views and opinions of the author and do not necessarily reflect those of Nasdaq, Inc.'"
      ]
     },
     "execution_count": 15,
     "metadata": {},
     "output_type": "execute_result"
    }
   ],
   "source": [
    "summary[0]"
   ]
  },
  {
   "cell_type": "markdown",
   "metadata": {},
   "source": [
    "Observed that the \\n characters are not cleaned, may need extra text processing before applying for sentiment analysis."
   ]
  },
  {
   "cell_type": "markdown",
   "metadata": {},
   "source": [
    "### Using selenium for dynamic page scrape"
   ]
  },
  {
   "cell_type": "code",
   "execution_count": 3,
   "metadata": {},
   "outputs": [],
   "source": [
    "from selenium import webdriver\n",
    "from bs4 import BeautifulSoup\n",
    "from selenium.webdriver.chrome.options import Options\n",
    "from webdriver_manager.chrome import ChromeDriverManager\n",
    "from datetime import date as d, timedelta as dt\n",
    "import re\n",
    "import urllib.parse"
   ]
  },
  {
   "cell_type": "code",
   "execution_count": 119,
   "metadata": {},
   "outputs": [],
   "source": [
    "# function that gets the source code of the page \n",
    "def html_src(urls):\n",
    "\n",
    "    path = \"C:\\Program Files (x86)\\chromedriver.exe\"\n",
    "    user_agent = 'Mozilla/5.0 (X11; Linux x86_64) AppleWebKit/537.36 (KHTML, like Gecko) Chrome/60.0.3112.50 Safari/537.36'    \n",
    "    \n",
    "    options = Options()\n",
    "    options.add_argument(\"--headless\")\n",
    "    options.add_argument(f'user-agent={user_agent}')\n",
    "    driver = webdriver.Chrome(path, options=options)\n",
    "\n",
    "    contents = {}\n",
    "    for src, url in urls.items():\n",
    "        driver.get(url) # only return the first page contents, ~10 articles can be found\n",
    "        contents[src] = BeautifulSoup(driver.page_source)\n",
    "\n",
    "    driver.quit()\n",
    "    \n",
    "    return contents"
   ]
  },
  {
   "cell_type": "code",
   "execution_count": 183,
   "metadata": {},
   "outputs": [],
   "source": [
    "# function that scrape links from Nasdaq page\n",
    "def nasdaq_links(soup):\n",
    "    results = soup.html.find_all('a', class_='search-results__item')\n",
    "    links = []\n",
    "    curr_date = d.today().strftime('%b %d, %Y') # advise to get news BEFORE pre-market\n",
    "    pre_date = (d.today()- dt(1)).strftime('%b %d, %Y') # may get same articles from previous search, as it compare the \"CURRENT\" time to the time released\n",
    "    date_ranges = [curr_date, pre_date]\n",
    "\n",
    "    for result in results:\n",
    "        date = result.find(class_='search-results__type').text\n",
    "        if date in date_ranges:\n",
    "            title = result.find(class_='search-results__text').text\n",
    "            if '(NASDAQ:' not in title:\n",
    "                links.append('https://www.nasdaq.com'+result['href'])\n",
    "\n",
    "    return links"
   ]
  },
  {
   "cell_type": "code",
   "execution_count": 147,
   "metadata": {},
   "outputs": [],
   "source": [
    "# function that scrape links from google news\n",
    "def google_links(soup):\n",
    "    results = soup.html.find_all('article', limit=20)\n",
    "    links = []\n",
    "    curr_date = d.today().strftime('%Y-%m-%d') # advise to get news BEFORE pre-market\n",
    "    pre_date = (d.today()- dt(1)).strftime('%Y-%m-%d') # may get same articles from previous search, as it compare the \"CURRENT\" time to the time released\n",
    "    date_ranges = [curr_date, pre_date]\n",
    "\n",
    "    for result in results:\n",
    "        date = result.find('time')['datetime'][:10]\n",
    "        if date in date_ranges:\n",
    "            # set a paywall check here\n",
    "            links.append('https://news.google.com' + result.find('a')['href'][1:])\n",
    "\n",
    "    return links"
   ]
  },
  {
   "cell_type": "code",
   "execution_count": 288,
   "metadata": {},
   "outputs": [],
   "source": [
    "# function that scrape links from yahoo news\n",
    "def yahoo_links(soup):\n",
    "    results = soup.html.find_all('li', class_='ov-a fst')\n",
    "    links = []\n",
    "    date_ranges = ['minute', 'minutes', 'hour', 'hours', 'day']\n",
    "\n",
    "    for result in results:\n",
    "        date_range = result.find('span', class_='fc-2nd s-time mr-8').text.split()[2]\n",
    "        if date_range in date_ranges:\n",
    "            # set a paywall check here\n",
    "            s = result.find('a')['href']\n",
    "            extract_link = re.search('RU=(.*)/RK=2', s)\n",
    "            extract_link = urllib.parse.unquote(extract_link.group(1))\n",
    "            links.append(extract_link)\n",
    "\n",
    "    return links"
   ]
  },
  {
   "cell_type": "code",
   "execution_count": 224,
   "metadata": {},
   "outputs": [],
   "source": [
    "# result page frm searching \"stock market\"\n",
    "urls = {\n",
    "    'nasdaq': 'https://www.nasdaq.com/search?q=stock%20market&page=1&sort_by=recent&filters=article&langcode=en',\n",
    "    'google': 'https://news.google.com/search?q=stock%20market&hl=en-US&gl=US&ceid=US%3Aen',\n",
    "    'yahoo': 'https://news.search.yahoo.com/search?p=stock+market'\n",
    "}\n",
    "\n",
    "contents = html_src(urls)"
   ]
  },
  {
   "cell_type": "code",
   "execution_count": 132,
   "metadata": {},
   "outputs": [],
   "source": [
    "from newspaper import Article"
   ]
  },
  {
   "cell_type": "code",
   "execution_count": 289,
   "metadata": {},
   "outputs": [
    {
     "name": "stdout",
     "output_type": "stream",
     "text": [
      "https://www.investors.com/market-trend/stock-market-today/dow-jones-shows-resilience-market-rally-at-pivotal-point-tesla-enphase-fall/?src=A00220&yptr=yahoo\n",
      "https://finance.yahoo.com/news/stock-market-news-live-updates-october-6-2022-111702441.html?fr=sycsrp_catchall\n",
      "https://investorplace.com/2022/10/is-the-stock-market-open-on-columbus-day-2022/\n",
      "https://www.foxbusiness.com/live-news/stock-market-news-today-october-06-2022\n",
      "https://www.fool.com/investing/2022/10/05/is-it-safe-to-invest-in-the-stock-market-right-now/?source=eptyholnk0000202&utm_source=yahoo-host&utm_medium=feed&utm_campaign=article&yptr=yahoo\n",
      "https://www.cnbc.com/2022/10/06/5-things-to-know-before-the-stock-market-opens-thursday-october-6.html\n",
      "https://www.fool.com/investing/2022/10/06/look-no-further-than-dividend-aristocrats-if-you-w/?source=eptyholnk0000202&utm_source=yahoo-host&utm_medium=feed&utm_campaign=article&yptr=yahoo\n",
      "https://www.fool.com/investing/2022/10/06/time-to-buy-stocks-2-bull-signals-in-bear-market/?source=eptyholnk0000202&utm_source=yahoo-host&utm_medium=feed&utm_campaign=article&yptr=yahoo\n",
      "https://www.forbes.com/advisor/investing/what-is-the-stock-market/\n",
      "https://www.investors.com/market-trend/stock-market-today/stock-market-digs-out-of-morning-hole-potato-stock-breaks-out/?src=A00220&yptr=yahoo\n"
     ]
    }
   ],
   "source": [
    "full_text = []\n",
    "summary = []\n",
    "\n",
    "for url in yahoo_links(contents['yahoo']):\n",
    "    try:\n",
    "        print(url)\n",
    "        article = Article(url)\n",
    "        article.download()\n",
    "        article.parse()\n",
    "        article.nlp()\n",
    "        full_text.append(article.text)\n",
    "        summary.append(article.summary)\n",
    "    except:\n",
    "        continue"
   ]
  },
  {
   "cell_type": "code",
   "execution_count": 314,
   "metadata": {},
   "outputs": [
    {
     "data": {
      "text/plain": [
       "[\"U.S. stock futures pointed to losses Thursday morning after a dramatic two-day rally that kicked off the quarter fizzled.\\nFutures tied to the S&P 500 fell 0.5%, while futures on the Dow Jones Industrial Average shed more than 100 points.\\nNEW YORK, US - OCTOBER 5: Traders work at the New York Stock Exchange on October 5, 2022 in New York City.\\nHowever, the ADP's private employment report showed the U.S. economy added 208,000 jobs in September, more than expected, and continuing a trend of upside surprises to labor market data.\\n“Equity bulls would need a print around 100,000 to see the market alter its Fed expectations,” JPMorgan noted.\",\n",
       " 'Is the Stock Market Open on Columbus Day 2022?',\n",
       " 'Biden admin looks to scale down Venezuela sanctions amid OPEC oil production cutThe Biden administration is reportedly gearing up to wind down sanctions against Venezuela’s authoritarian regime, clearing the way for Chevron to resume its oil operations and reopen U.S. and European markets.\\nDiscussions of possible sanctions relief on Venezuela come as President Biden faces mounting political pressure to address rising gas prices ahead of the November midterms.\\nSuch a deal between the U.S. and Venezuela could potentially enrage critics on all sides.\\n\"So, Biden is clearly trying to do anything he can do to hold oil prices down, and thereby help keep gasoline prices low, such that it doesn\\'t hit them that hard in the midterms.\"\\nRead more on the story here: Biden admin looks to scale down Venezuela sanctions, allow more pumping of oil rated among world\\'s dirtiest',\n",
       " \"The stock market has been on a downhill slide since the beginning of the year, and if you're feeling nervous about investing right now, you're not alone.\\nShould you keep investing right now?\\nNot all stocks will survive a market downturn, but by choosing the right companies, you're far more likely to see long-term investing success.\\nInvesting now could lead to lucrative returns laterInvesting in the stock market is playing the long game.\\nHowever, despite volatility, the stock market remains one of the most effective wealth-building machines.\",\n",
       " \"Still on shaky groundAfter two, rip-roaring rallies, U.S. stock markets settled back into negative territory Wednesday.\\nThe bulls showed a little fight toward the end of the day, but it wasn't enough to keep the winning streak going.\\nEarnings season begins in earnest next week, but until then, investors' eyes are on the job market.\\nA hot job market will likely fuel the Fed's rationale to hike rates further.\\nEx-Uber security chief found guiltyJoe Sullivan, Uber chief security officer CNBCA federal jury found Joe Sullivan, a former top security chief at Uber, guilty of covering up a cybersecurity breach in 2016 that affected the personal data of 57 million drivers and customers.\",\n",
       " \"If you're looking for some stability, look no further than Dividend Aristocrats.\\nKill two birds with one stoneIf you want the benefits of Dividend Aristocrats while lessening some of the risks, you can invest in exchange-traded funds (ETFs) that focus specifically on Dividend Aristocrats.\\nTake the ProShares S&P 500 Dividend Aristocrats ETF, for example.\\nETFs focused on Dividend Aristocrats can also help you kill two birds with one stone by providing diversification.\\nSuppose both invested $500 monthly into the ProShares S&P 500 Dividend Aristocrats ETF.\",\n",
       " \"Those sharp declines put both widely followed indexes into bear market territory.\\nThe stock market's best days are often during bear marketsMissing even a few of the stock market's best days can lead to significant underperformance.\\nHowever, if you had missed the 10 best days during that time, your portfolio would have grown just 183% to $28,260.\\nSimilarly, two of the stock market's 10 best days since 2002 took place on the day following a bear market's bottom.\\nIn short, many of the market's best days take place during bear markets (or in close proximity to bear markets), and missing those days could dramatically lower your portfolio's total returns in the long run.\"]"
      ]
     },
     "execution_count": 314,
     "metadata": {},
     "output_type": "execute_result"
    }
   ],
   "source": [
    "summary"
   ]
  },
  {
   "cell_type": "markdown",
   "metadata": {},
   "source": [
    "##### Improvement\n",
    "- the time consumption is too expansive to get few links in Nasdaq page (tested other pages seem faster compare to Nasdaq page), code need to optimized\n",
    "- functions are not utilized to perform complicated scraping, only focus on Nasdaq page and certain search term and filters\n",
    "- include other news source"
   ]
  }
 ],
 "metadata": {
  "kernelspec": {
   "display_name": "Python 3.9.7 ('base')",
   "language": "python",
   "name": "python3"
  },
  "language_info": {
   "codemirror_mode": {
    "name": "ipython",
    "version": 3
   },
   "file_extension": ".py",
   "mimetype": "text/x-python",
   "name": "python",
   "nbconvert_exporter": "python",
   "pygments_lexer": "ipython3",
   "version": "3.9.7"
  },
  "orig_nbformat": 4,
  "vscode": {
   "interpreter": {
    "hash": "6adfa4b3945d2769b4c7e7952672dd1ae04eeab03658e4b73feff72df6416cba"
   }
  }
 },
 "nbformat": 4,
 "nbformat_minor": 2
}
