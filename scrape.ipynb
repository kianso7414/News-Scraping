{
 "cells": [
  {
   "cell_type": "markdown",
   "metadata": {},
   "source": [
    "#### Requests and BeautifulSoup for news link in Nasdaq page"
   ]
  },
  {
   "cell_type": "markdown",
   "metadata": {},
   "source": [
    "The main mission of this project is to \n",
    "- scrape available news in Nasdaq page for latest day available\n",
    "- which will be used for sentiment analysis later for stocks price forcasting"
   ]
  },
  {
   "cell_type": "code",
   "execution_count": 12,
   "metadata": {},
   "outputs": [],
   "source": [
    "import requests\n",
    "from bs4 import BeautifulSoup"
   ]
  },
  {
   "cell_type": "code",
   "execution_count": 2,
   "metadata": {},
   "outputs": [],
   "source": [
    "URL = 'https://www.nasdaq.com/press-release/aegis-capital-corp.-acted-as-exclusive-placement-agent-on-a-%246-million-private'\n",
    "header = {\"User-Agent\": \"Mozilla/5.0 (X11; CrOS x86_64 12871.102.0) AppleWebKit/537.36 (KHTML, like Gecko) Chrome/81.0.4044.141 Safari/537.36\"}\n",
    "\n",
    "page = requests.get(URL, headers=header)\n",
    "soup = BeautifulSoup(page.content, 'html.parser')"
   ]
  },
  {
   "cell_type": "code",
   "execution_count": 9,
   "metadata": {},
   "outputs": [
    {
     "name": "stdout",
     "output_type": "stream",
     "text": [
      "<div class=\"body__content\">\n",
      " <p>\n",
      "  <strong>\n",
      "   <span class=\"xn-location\">\n",
      "    NEW YORK, NY\n",
      "   </span>\n",
      "   / ACCESSWIRE /\n",
      "   <span class=\"xn-chron\">\n",
      "    October 3, 2022\n",
      "   </span>\n",
      "   /\n",
      "   <span class=\"xn-org\" xn:idsrc=\"xmltag.org\" xn:value=\"ACORN:2498663924\">\n",
      "    Aegis Capital Corp.\n",
      "   </span>\n",
      "   acted as Exclusive Placement Agent on a\n",
      "   <span class=\"xn-money\">\n",
      "    $6 Million\n",
      "   </span>\n",
      "   Private Placement Priced At-the-Market for\n",
      "   <span class=\"xn-org\" xn:idsrc=\"xmltag.org\" xn:value=\"NASDAQ-NMS:SOBR\">\n",
      "    SOBR Safe, Inc.\n",
      "   </span>\n",
      "   (NASDAQ:SOBR).\n",
      "  </strong>\n",
      " </p>\n",
      " <p>\n",
      "  <strong>\n",
      "   About for\n",
      "   <span class=\"xn-org\" xn:idsrc=\"xmltag.org\" xn:value=\"NASDAQ-NMS:SOBR\">\n",
      "    SOBR Safe, Inc.\n",
      "   </span>\n",
      "  </strong>\n",
      " </p>\n",
      " <p>\n",
      "  <span class=\"xn-org\" xn:idsrc=\"xmltag.org\" xn:value=\"NASDAQ-NMS:SOBR\">\n",
      "   SOBR Safe, Inc.\n",
      "  </span>\n",
      "  develops a non-invasive alcohol detection and identity verification systems. It engages in the development of SOBRcheck, a stationary identification and alcohol monitoring product; SOBRsure, a transdermal, alcohol-detecting wearable band; and SOBRSafe software platform for non-invasive alcohol detection and identity verification. The company was founded in 2004 and is based in\n",
      "  <span class=\"xn-location\">\n",
      "   Greenwood Village, Colorado\n",
      "  </span>\n",
      "  .\n",
      " </p>\n",
      " <p>\n",
      "  For more information, please visit the Company's website:\n",
      "  <a href=\"https://pr.report/QJaDnCwb\">\n",
      "   https://sobrsafe.com\n",
      "  </a>\n",
      " </p>\n",
      " <img alt=\"SOBR Safe, Inc. Announces Pricing of $6 Million Private Placement Priced At-the-Market\" src=\"https://www.accesswire.com/users/newswire/images/718499/image.png\" style=\"width:226px;\"/>\n",
      " <p>\n",
      "  <strong>\n",
      "   About\n",
      "   <span class=\"xn-org\" xn:idsrc=\"xmltag.org\" xn:value=\"ACORN:2498663924\">\n",
      "    Aegis Capital Corporation\n",
      "   </span>\n",
      "  </strong>\n",
      " </p>\n",
      " <p>\n",
      "  <span class=\"xn-org\" xn:idsrc=\"xmltag.org\" xn:value=\"ACORN:2498663924\">\n",
      "   Aegis Capital Corporation\n",
      "  </span>\n",
      "  (\"Aegis\") has been in the wealth management and investment banking business since 1984. Aegis is dedicated to providing corporate finance, strategic advisory and related services to public and private companies across multiple sectors and regions. Aegis also provides research and sales and trading services to institutional investors. Aegis offers its investment representatives a conflict free service platform and is able to provide a full-range of products and services including investment banking, wealth management, insurance, retirement planning, structured products, private equity, alternatives, equity research, fixed income and special purpose vehicles.\n",
      " </p>\n",
      " <p>\n",
      "  For more information about this offering or Investment Banking Services please email\n",
      "  <a href=\"mailto:Banking@aegiscap.com\">\n",
      "   Banking@aegiscap.com\n",
      "  </a>\n",
      "  or call (212) 813-1010.\n",
      " </p>\n",
      " <img alt=\"Aegis Capital Corp., Monday, October 3, 2022, Press release picture\" src=\"https://www.accesswire.com/users/newswire/images/718499/image-1.png\" style=\"width:277px;\"/>\n",
      " <p>\n",
      "  <a href=\"https://pr.report/12OgQCSX\">\n",
      "   www.aegiscapcorp.com\n",
      "  </a>\n",
      " </p>\n",
      " <p>\n",
      "  Brokerage and investment advisory services are offered through\n",
      "  <span class=\"xn-org\" xn:idsrc=\"xmltag.org\" xn:value=\"ACORN:2498663924\">\n",
      "   Aegis Capital Corporation\n",
      "  </span>\n",
      "  , a member of\n",
      "  <span class=\"xn-org\">\n",
      "   FINRA\n",
      "  </span>\n",
      "  and\n",
      "  <span class=\"xn-org\">\n",
      "   SIPC\n",
      "  </span>\n",
      "  . Investment and insurance products offered are not insured by the\n",
      "  <span class=\"xn-org\">\n",
      "   FDIC\n",
      "  </span>\n",
      "  or any other federal government agency, are not deposits or other obligations of, or guaranteed by, a bank or any bank affiliate, and are subject to investment risks, including possible loss of the principal amount invested.\n",
      " </p>\n",
      " <p>\n",
      "  <strong>\n",
      "   SOURCE:\n",
      "  </strong>\n",
      "  <span class=\"xn-org\" xn:idsrc=\"xmltag.org\" xn:value=\"ACORN:2498663924\">\n",
      "   Aegis Capital Corp.\n",
      "  </span>\n",
      " </p>\n",
      " <a href=\"http://accesswire.com\">\n",
      "  accesswire.com\n",
      " </a>\n",
      " <a href=\"https://www.accesswire.com/718499/Aegis-Capital-Corp-acted-as-Exclusive-Placement-Agent-on-a-6-Million-Private-Placement-Priced-At-the-Market-for-SOBR-Safe-Inc-NASDAQSOBR\">\n",
      "  https://www.accesswire.com/718499/Aegis-Capital-Corp-acted-as-Exclusive-Placement-Agent-on-a-6-Million-Private-Placement-Priced-At-the-Market-for-SOBR-Safe-Inc-NASDAQSOBR\n",
      " </a>\n",
      "</div>\n",
      "\n"
     ]
    }
   ],
   "source": [
    "print(soup.find('div', class_='body__content').prettify())"
   ]
  },
  {
   "cell_type": "markdown",
   "metadata": {},
   "source": [
    "There is content in the scrape. However, when scraping the Nasdaq search page, it returns none in the content."
   ]
  },
  {
   "cell_type": "code",
   "execution_count": 10,
   "metadata": {},
   "outputs": [],
   "source": [
    "# Search \"Nasdaq\" most recent article\n",
    "URL = 'https://www.nasdaq.com/search?q=nasdaq&page=1&sort_by=recent&filters=article&langcode=en'\n",
    "header = {\"User-Agent\": \"Mozilla/5.0 (X11; CrOS x86_64 12871.102.0) AppleWebKit/537.36 (KHTML, like Gecko) Chrome/81.0.4044.141 Safari/537.36\"}\n",
    "\n",
    "page_s = requests.get(URL, headers=header)\n",
    "soup_s = BeautifulSoup(page.content, 'html.parser')"
   ]
  },
  {
   "cell_type": "code",
   "execution_count": 12,
   "metadata": {},
   "outputs": [
    {
     "data": {
      "text/plain": [
       "[]"
      ]
     },
     "execution_count": 12,
     "metadata": {},
     "output_type": "execute_result"
    }
   ],
   "source": [
    "soup_s.find_all('div', 'search-results__results')"
   ]
  },
  {
   "cell_type": "markdown",
   "metadata": {},
   "source": [
    "The page is dynamically generated, I will use Selenium accessing the page for directly loading and saving the content. Before that, let's check out the newspaper3k library, which provides very good functionality in summarizing articles."
   ]
  },
  {
   "cell_type": "markdown",
   "metadata": {},
   "source": [
    "For models in huggingface, they are usually trained with maximum number of tokens (e.g. 512). If the articles is too long to be tokenized, some of the content may be cut off from the tail or head, that impacts the accuracy substantially."
   ]
  },
  {
   "cell_type": "markdown",
   "metadata": {},
   "source": [
    "Newspaper3k summarize articles in sentences, in which the top 5 most common sentences will be used to summarize the article."
   ]
  },
  {
   "cell_type": "markdown",
   "metadata": {},
   "source": [
    "### Basic newspaper3k.Article"
   ]
  },
  {
   "cell_type": "code",
   "execution_count": 14,
   "metadata": {},
   "outputs": [],
   "source": [
    "from newspaper import Article\n",
    "\n",
    "#summarize 2 articles from Nasdaq search\n",
    "urls = ['https://www.nasdaq.com/articles/market-close-report%3a-nasdaq-composite-index-closes-at-10815.44-up-239.82-points',\n",
    "    'https://www.nasdaq.com/articles/thrive-acquisition-corporation-nasdaq%3athac-is-favoured-by-institutional-owners-who-hold-50'\n",
    "]\n",
    "\n",
    "full_text = []\n",
    "summary = []\n",
    "\n",
    "for url in urls:\n",
    "    article = Article(url)\n",
    "    article.download()\n",
    "    article.parse()\n",
    "    article.nlp()\n",
    "    full_text.append(article.text)\n",
    "    summary.append(article.summary)"
   ]
  },
  {
   "cell_type": "code",
   "execution_count": 15,
   "metadata": {},
   "outputs": [
    {
     "data": {
      "text/plain": [
       "'Monday’s session closes with the NASDAQ Composite Index at 10,815.44.\\nThe most active, advancers, decliners, unusual volume and most active by dollar volume can be monitored intraday on theMost Active Stocks page.\\nThe NASDAQ 100 index closed up 2.36% for the day; a total of 258.51 points.\\nThe Dow Jones index closed up 2.66% for the day; a total of 765.38 points.\\nThe views and opinions expressed herein are the views and opinions of the author and do not necessarily reflect those of Nasdaq, Inc.'"
      ]
     },
     "execution_count": 15,
     "metadata": {},
     "output_type": "execute_result"
    }
   ],
   "source": [
    "summary[0]"
   ]
  },
  {
   "cell_type": "markdown",
   "metadata": {},
   "source": [
    "Observed that the \\n characters are not cleaned, may need extra text processing before applying for sentiment analysis."
   ]
  },
  {
   "cell_type": "markdown",
   "metadata": {},
   "source": [
    "### Using selenium for dynamic page scrape"
   ]
  },
  {
   "cell_type": "code",
   "execution_count": 2,
   "metadata": {},
   "outputs": [],
   "source": [
    "from selenium import webdriver\n",
    "from bs4 import BeautifulSoup\n",
    "from selenium.webdriver.chrome.options import Options\n",
    "from webdriver_manager.chrome import ChromeDriverManager\n",
    "from datetime import date as d, timedelta as dt\n",
    "import re\n",
    "import urllib.parse"
   ]
  },
  {
   "cell_type": "code",
   "execution_count": 8,
   "metadata": {},
   "outputs": [],
   "source": [
    "# function that gets the source code of the page \n",
    "def html_src(urls):\n",
    "\n",
    "    path = \"C:\\Program Files (x86)\\chromedriver.exe\"\n",
    "    user_agent = 'Mozilla/5.0 (X11; Linux x86_64) AppleWebKit/537.36 (KHTML, like Gecko) Chrome/60.0.3112.50 Safari/537.36'    \n",
    "    \n",
    "    options = Options()\n",
    "    options.add_argument(\"--headless\")\n",
    "    options.add_argument(f'user-agent={user_agent}')\n",
    "    driver = webdriver.Chrome(path, options=options)\n",
    "\n",
    "    contents = {}\n",
    "    for src, url in urls.items():\n",
    "        driver.get(url) # only return the first page contents, ~10 articles can be found\n",
    "        contents[src] = BeautifulSoup(driver.page_source)\n",
    "\n",
    "    driver.quit()\n",
    "    \n",
    "    return contents"
   ]
  },
  {
   "cell_type": "code",
   "execution_count": 183,
   "metadata": {},
   "outputs": [],
   "source": [
    "# function that scrape links from Nasdaq page\n",
    "def nasdaq_links(soup):\n",
    "    results = soup.html.find_all('a', class_='search-results__item')\n",
    "    links = []\n",
    "    curr_date = d.today().strftime('%b %d, %Y') # advise to get news BEFORE pre-market\n",
    "    pre_date = (d.today()- dt(1)).strftime('%b %d, %Y') # may get same articles from previous search, as it compare the \"CURRENT\" time to the time released\n",
    "    date_ranges = [curr_date, pre_date]\n",
    "\n",
    "    for result in results:\n",
    "        date = result.find(class_='search-results__type').text\n",
    "        if date in date_ranges:\n",
    "            title = result.find(class_='search-results__text').text\n",
    "            if '(NASDAQ:' not in title:\n",
    "                links.append('https://www.nasdaq.com'+result['href'])\n",
    "\n",
    "    return links"
   ]
  },
  {
   "cell_type": "code",
   "execution_count": 147,
   "metadata": {},
   "outputs": [],
   "source": [
    "# function that scrape links from google news\n",
    "def google_links(soup):\n",
    "    results = soup.html.find_all('article', limit=20)\n",
    "    links = []\n",
    "    curr_date = d.today().strftime('%Y-%m-%d') # advise to get news BEFORE pre-market\n",
    "    pre_date = (d.today()- dt(1)).strftime('%Y-%m-%d') # may get same articles from previous search, as it compare the \"CURRENT\" time to the time released\n",
    "    date_ranges = [curr_date, pre_date]\n",
    "\n",
    "    for result in results:\n",
    "        date = result.find('time')['datetime'][:10]\n",
    "        if date in date_ranges:\n",
    "            # set a paywall check here\n",
    "            links.append('https://news.google.com' + result.find('a')['href'][1:])\n",
    "\n",
    "    return links"
   ]
  },
  {
   "cell_type": "code",
   "execution_count": 288,
   "metadata": {},
   "outputs": [],
   "source": [
    "# function that scrape links from yahoo news\n",
    "def yahoo_links(soup):\n",
    "    results = soup.html.find_all('li', class_='ov-a fst')\n",
    "    links = []\n",
    "    date_ranges = ['minute', 'minutes', 'hour', 'hours', 'day']\n",
    "\n",
    "    for result in results:\n",
    "        date_range = result.find('span', class_='fc-2nd s-time mr-8').text.split()[2]\n",
    "        if date_range in date_ranges:\n",
    "            # set a paywall check here\n",
    "            s = result.find('a')['href']\n",
    "            extract_link = re.search('RU=(.*)/RK=2', s)\n",
    "            extract_link = urllib.parse.unquote(extract_link.group(1))\n",
    "            links.append(extract_link)\n",
    "\n",
    "    return links"
   ]
  },
  {
   "cell_type": "code",
   "execution_count": 224,
   "metadata": {},
   "outputs": [],
   "source": [
    "# result page frm searching \"stock market\"\n",
    "urls = {\n",
    "    'nasdaq': 'https://www.nasdaq.com/search?q=stock%20market&page=1&sort_by=recent&filters=article&langcode=en',\n",
    "    'google': 'https://news.google.com/search?q=stock%20market&hl=en-US&gl=US&ceid=US%3Aen',\n",
    "    'yahoo': 'https://news.search.yahoo.com/search?p=stock+market'\n",
    "}\n",
    "\n",
    "contents = html_src(urls)"
   ]
  },
  {
   "cell_type": "code",
   "execution_count": 66,
   "metadata": {},
   "outputs": [],
   "source": [
    "from newspaper import Article"
   ]
  },
  {
   "cell_type": "code",
   "execution_count": 289,
   "metadata": {},
   "outputs": [
    {
     "name": "stdout",
     "output_type": "stream",
     "text": [
      "https://www.investors.com/market-trend/stock-market-today/dow-jones-shows-resilience-market-rally-at-pivotal-point-tesla-enphase-fall/?src=A00220&yptr=yahoo\n",
      "https://finance.yahoo.com/news/stock-market-news-live-updates-october-6-2022-111702441.html?fr=sycsrp_catchall\n",
      "https://investorplace.com/2022/10/is-the-stock-market-open-on-columbus-day-2022/\n",
      "https://www.foxbusiness.com/live-news/stock-market-news-today-october-06-2022\n",
      "https://www.fool.com/investing/2022/10/05/is-it-safe-to-invest-in-the-stock-market-right-now/?source=eptyholnk0000202&utm_source=yahoo-host&utm_medium=feed&utm_campaign=article&yptr=yahoo\n",
      "https://www.cnbc.com/2022/10/06/5-things-to-know-before-the-stock-market-opens-thursday-october-6.html\n",
      "https://www.fool.com/investing/2022/10/06/look-no-further-than-dividend-aristocrats-if-you-w/?source=eptyholnk0000202&utm_source=yahoo-host&utm_medium=feed&utm_campaign=article&yptr=yahoo\n",
      "https://www.fool.com/investing/2022/10/06/time-to-buy-stocks-2-bull-signals-in-bear-market/?source=eptyholnk0000202&utm_source=yahoo-host&utm_medium=feed&utm_campaign=article&yptr=yahoo\n",
      "https://www.forbes.com/advisor/investing/what-is-the-stock-market/\n",
      "https://www.investors.com/market-trend/stock-market-today/stock-market-digs-out-of-morning-hole-potato-stock-breaks-out/?src=A00220&yptr=yahoo\n"
     ]
    }
   ],
   "source": [
    "full_text = []\n",
    "summary = []\n",
    "\n",
    "for url in yahoo_links(contents['yahoo']):\n",
    "    try:\n",
    "        print(url)\n",
    "        article = Article(url)\n",
    "        article.download()\n",
    "        article.parse()\n",
    "        article.nlp()\n",
    "        full_text.append(article.text)\n",
    "        summary.append(article.summary)\n",
    "    except:\n",
    "        continue"
   ]
  },
  {
   "cell_type": "code",
   "execution_count": 70,
   "metadata": {},
   "outputs": [
    {
     "data": {
      "text/plain": [
       "'NEW YORK — A year of sharp declines for the stock market reversed over the summer, giving stocks a much-needed rebound.\\nThe S&P 500 on Monday closed at a lower point than it has on any other day of 2022.\\nA recession poses a serious threat to the stock market because it could dramatically cut corporate profits, the key focus for stock forecasters.\\nHow far will the stock market fall?\\nAdded Lerner: \"The price of admission in the stock market are drawdowns.'"
      ]
     },
     "execution_count": 70,
     "metadata": {},
     "output_type": "execute_result"
    }
   ],
   "source": [
    "summary[1]"
   ]
  },
  {
   "cell_type": "markdown",
   "metadata": {},
   "source": [
    "##### Improvement\n",
    "- the time consumption is too expansive to get few links in Nasdaq page (tested other pages seem faster compare to Nasdaq page), code need to optimized\n",
    "- functions are not utilized to perform complicated scraping, only focus on Nasdaq page and certain search term and filters\n",
    "- include other news source"
   ]
  },
  {
   "cell_type": "markdown",
   "metadata": {},
   "source": [
    "### Only search on google news with specific day"
   ]
  },
  {
   "cell_type": "markdown",
   "metadata": {},
   "source": [
    "- The advantage of search the same query over different website is diversity over news source and to prevent information bias due to the specific one algorithm\n",
    "- However, the inflexibility of different search engines is limiting the possibility of searching over different dates.\n",
    "- Selenium also use alot of time running at the background and return limited amount of results.\n",
    "- Therefore I will use only the google search engine to scrape news given the date specified through requests and bs4."
   ]
  },
  {
   "cell_type": "code",
   "execution_count": 36,
   "metadata": {},
   "outputs": [],
   "source": [
    "min_date = (d.today() - dt(10)).strftime('%m/%d/%Y')\n",
    "max_date = (d.today() - dt(4)).strftime('%m/%d/%Y')\n",
    "\n",
    "url = f'https://www.google.com/search?q=stock+market&source=lnt&tbs=cdr%3A1%2Ccd_min%3A{min_date}%2Ccd_max%3A{max_date}&tbm=nws'"
   ]
  },
  {
   "cell_type": "code",
   "execution_count": 38,
   "metadata": {},
   "outputs": [
    {
     "data": {
      "text/plain": [
       "'https://www.google.com/search?q=stock+market&source=lnt&tbs=cdr%3A1%2Ccd_min%3A09/27/2022%2Ccd_max%3A10/03/2022&tbm=nws'"
      ]
     },
     "execution_count": 38,
     "metadata": {},
     "output_type": "execute_result"
    }
   ],
   "source": [
    "url"
   ]
  },
  {
   "cell_type": "code",
   "execution_count": 39,
   "metadata": {},
   "outputs": [],
   "source": [
    "header = {\"User-Agent\": \"Mozilla/5.0 (X11; CrOS x86_64 12871.102.0) AppleWebKit/537.36 (KHTML, like Gecko) Chrome/81.0.4044.141 Safari/537.36\"}\n",
    "\n",
    "page = requests.get(url, headers=header)\n",
    "soup = BeautifulSoup(page.content, 'html.parser')"
   ]
  },
  {
   "cell_type": "code",
   "execution_count": 48,
   "metadata": {},
   "outputs": [],
   "source": [
    "main = soup.find_all('a', class_='WlydOe')"
   ]
  },
  {
   "cell_type": "code",
   "execution_count": 52,
   "metadata": {},
   "outputs": [],
   "source": [
    "heading = soup.find_all('div', {'role': 'heading'})"
   ]
  },
  {
   "cell_type": "code",
   "execution_count": 57,
   "metadata": {},
   "outputs": [
    {
     "name": "stdout",
     "output_type": "stream",
     "text": [
      "STOCK MARKET SNAPSHOT FOR 30/9/2022\n",
      "How low the stock market could fall and what investors should do, according \n",
      "to experts\n",
      "Stock market news today: S&P 500 hits new 2022 low as Fed stays hawkish\n",
      "Things Keep Getting Worse for Hong Kong's Embattled Stock ...\n",
      "Porsche shares rise on first trading day in €75bn stock market float\n",
      "Stock market news live updates: Stocks surge as Wall Street crawls out of a \n",
      "brutal September\n",
      "Wall Street Experts Warn Stocks May Fall Even Further\n",
      "Warren Buffett Shares 5 Requirements for Making Money in ...\n",
      "Global Stock Market Software Market Expected to Reach ...\n",
      "Options activity hints U.S. stock market has not reached ...\n"
     ]
    }
   ],
   "source": [
    "for i in heading:\n",
    "    print(i.text)"
   ]
  },
  {
   "cell_type": "code",
   "execution_count": 67,
   "metadata": {},
   "outputs": [],
   "source": [
    "url = urls[0]\n",
    "article = Article(url)\n",
    "article.download()\n",
    "article.parse()\n",
    "article.nlp()\n"
   ]
  },
  {
   "cell_type": "code",
   "execution_count": 68,
   "metadata": {},
   "outputs": [
    {
     "name": "stdout",
     "output_type": "stream",
     "text": [
      "https://www.hellenicshippingnews.com/stock-market-snapshot-for-30-9-2022/\n",
      "https://www.wokv.com/news/business/how-low-stock-market/PWCGGELUZEJ6H7WORJB5INMFLA/\n",
      "https://markets.businessinsider.com/news/stocks/stock-market-news-today-sp500-2022-low-fed-defends-hawkish-2022-9\n",
      "https://www.bloomberg.com/news/articles/2022-09-29/things-keep-getting-worse-for-hong-kong-s-embattled-stock-market\n",
      "https://www.theguardian.com/business/2022/sep/29/porsche-shares-rise-first-trading-day-volkswagen-75bn-stock-market-float\n",
      "https://finance.yahoo.com/news/stock-market-news-live-updates-october-3-2022-104213864.html\n",
      "https://money.com/wall-street-forecast-stocks-fall-even-further/\n",
      "https://nonpareilonline.com/business/investment/personal-finance/warren-buffett-shares-5-requirements-for-making-money-in-the-stock-market/article_2f4f8da7-043f-560d-8c8a-d82181cee5dd.html\n",
      "https://www.einnews.com/pr_news/594069262/global-stock-market-software-market-expected-to-reach-11-21-billion-by-2031-allied-market-research\n",
      "https://www.reuters.com/markets/europe/options-activity-hints-us-stock-market-has-not-reached-bottom-barclays-2022-09-27/\n"
     ]
    }
   ],
   "source": [
    "urls = []\n",
    "\n",
    "for src in main:\n",
    "    urls.append(src['href'])\n",
    "\n",
    "full_text = []\n",
    "summary = []\n",
    "\n",
    "for url in urls:\n",
    "    try:\n",
    "        print(url)\n",
    "        article = Article(url)\n",
    "        article.download()\n",
    "        article.parse()\n",
    "        article.nlp()\n",
    "        full_text.append(article.text)\n",
    "        summary.append(article.summary)\n",
    "    except:\n",
    "        continue"
   ]
  },
  {
   "cell_type": "markdown",
   "metadata": {},
   "source": [
    "From previous experiment, we can get news about stock market in specific date."
   ]
  },
  {
   "cell_type": "code",
   "execution_count": 71,
   "metadata": {},
   "outputs": [
    {
     "data": {
      "text/plain": [
       "10"
      ]
     },
     "execution_count": 71,
     "metadata": {},
     "output_type": "execute_result"
    }
   ],
   "source": [
    "len(summary)"
   ]
  },
  {
   "cell_type": "markdown",
   "metadata": {},
   "source": [
    "Therefore, we can loop through a year to get news from the past, and make training data for the model."
   ]
  },
  {
   "cell_type": "markdown",
   "metadata": {},
   "source": []
  }
 ],
 "metadata": {
  "kernelspec": {
   "display_name": "Python 3.9.7 ('base')",
   "language": "python",
   "name": "python3"
  },
  "language_info": {
   "codemirror_mode": {
    "name": "ipython",
    "version": 3
   },
   "file_extension": ".py",
   "mimetype": "text/x-python",
   "name": "python",
   "nbconvert_exporter": "python",
   "pygments_lexer": "ipython3",
   "version": "3.9.7"
  },
  "orig_nbformat": 4,
  "vscode": {
   "interpreter": {
    "hash": "6adfa4b3945d2769b4c7e7952672dd1ae04eeab03658e4b73feff72df6416cba"
   }
  }
 },
 "nbformat": 4,
 "nbformat_minor": 2
}
