{
 "cells": [
  {
   "cell_type": "markdown",
   "metadata": {},
   "source": [
    "#### Requests and BeautifulSoup for news link in Nasdaq page"
   ]
  },
  {
   "cell_type": "markdown",
   "metadata": {},
   "source": [
    "The main mission of this project is to \n",
    "- scrape available news in Nasdaq page for latest day available\n",
    "- which will be used for sentiment analysis later for stocks price forcasting"
   ]
  },
  {
   "cell_type": "code",
   "execution_count": 2,
   "metadata": {},
   "outputs": [],
   "source": [
    "import requests\n",
    "from bs4 import BeautifulSoup\n",
    "\n",
    "URL = 'https://www.nasdaq.com/press-release/aegis-capital-corp.-acted-as-exclusive-placement-agent-on-a-%246-million-private'\n",
    "header = {\"User-Agent\": \"Mozilla/5.0 (X11; CrOS x86_64 12871.102.0) AppleWebKit/537.36 (KHTML, like Gecko) Chrome/81.0.4044.141 Safari/537.36\"}\n",
    "\n",
    "page = requests.get(URL, headers=header)\n",
    "soup = BeautifulSoup(page.content, 'html.parser')"
   ]
  },
  {
   "cell_type": "code",
   "execution_count": 9,
   "metadata": {},
   "outputs": [
    {
     "name": "stdout",
     "output_type": "stream",
     "text": [
      "<div class=\"body__content\">\n",
      " <p>\n",
      "  <strong>\n",
      "   <span class=\"xn-location\">\n",
      "    NEW YORK, NY\n",
      "   </span>\n",
      "   / ACCESSWIRE /\n",
      "   <span class=\"xn-chron\">\n",
      "    October 3, 2022\n",
      "   </span>\n",
      "   /\n",
      "   <span class=\"xn-org\" xn:idsrc=\"xmltag.org\" xn:value=\"ACORN:2498663924\">\n",
      "    Aegis Capital Corp.\n",
      "   </span>\n",
      "   acted as Exclusive Placement Agent on a\n",
      "   <span class=\"xn-money\">\n",
      "    $6 Million\n",
      "   </span>\n",
      "   Private Placement Priced At-the-Market for\n",
      "   <span class=\"xn-org\" xn:idsrc=\"xmltag.org\" xn:value=\"NASDAQ-NMS:SOBR\">\n",
      "    SOBR Safe, Inc.\n",
      "   </span>\n",
      "   (NASDAQ:SOBR).\n",
      "  </strong>\n",
      " </p>\n",
      " <p>\n",
      "  <strong>\n",
      "   About for\n",
      "   <span class=\"xn-org\" xn:idsrc=\"xmltag.org\" xn:value=\"NASDAQ-NMS:SOBR\">\n",
      "    SOBR Safe, Inc.\n",
      "   </span>\n",
      "  </strong>\n",
      " </p>\n",
      " <p>\n",
      "  <span class=\"xn-org\" xn:idsrc=\"xmltag.org\" xn:value=\"NASDAQ-NMS:SOBR\">\n",
      "   SOBR Safe, Inc.\n",
      "  </span>\n",
      "  develops a non-invasive alcohol detection and identity verification systems. It engages in the development of SOBRcheck, a stationary identification and alcohol monitoring product; SOBRsure, a transdermal, alcohol-detecting wearable band; and SOBRSafe software platform for non-invasive alcohol detection and identity verification. The company was founded in 2004 and is based in\n",
      "  <span class=\"xn-location\">\n",
      "   Greenwood Village, Colorado\n",
      "  </span>\n",
      "  .\n",
      " </p>\n",
      " <p>\n",
      "  For more information, please visit the Company's website:\n",
      "  <a href=\"https://pr.report/QJaDnCwb\">\n",
      "   https://sobrsafe.com\n",
      "  </a>\n",
      " </p>\n",
      " <img alt=\"SOBR Safe, Inc. Announces Pricing of $6 Million Private Placement Priced At-the-Market\" src=\"https://www.accesswire.com/users/newswire/images/718499/image.png\" style=\"width:226px;\"/>\n",
      " <p>\n",
      "  <strong>\n",
      "   About\n",
      "   <span class=\"xn-org\" xn:idsrc=\"xmltag.org\" xn:value=\"ACORN:2498663924\">\n",
      "    Aegis Capital Corporation\n",
      "   </span>\n",
      "  </strong>\n",
      " </p>\n",
      " <p>\n",
      "  <span class=\"xn-org\" xn:idsrc=\"xmltag.org\" xn:value=\"ACORN:2498663924\">\n",
      "   Aegis Capital Corporation\n",
      "  </span>\n",
      "  (\"Aegis\") has been in the wealth management and investment banking business since 1984. Aegis is dedicated to providing corporate finance, strategic advisory and related services to public and private companies across multiple sectors and regions. Aegis also provides research and sales and trading services to institutional investors. Aegis offers its investment representatives a conflict free service platform and is able to provide a full-range of products and services including investment banking, wealth management, insurance, retirement planning, structured products, private equity, alternatives, equity research, fixed income and special purpose vehicles.\n",
      " </p>\n",
      " <p>\n",
      "  For more information about this offering or Investment Banking Services please email\n",
      "  <a href=\"mailto:Banking@aegiscap.com\">\n",
      "   Banking@aegiscap.com\n",
      "  </a>\n",
      "  or call (212) 813-1010.\n",
      " </p>\n",
      " <img alt=\"Aegis Capital Corp., Monday, October 3, 2022, Press release picture\" src=\"https://www.accesswire.com/users/newswire/images/718499/image-1.png\" style=\"width:277px;\"/>\n",
      " <p>\n",
      "  <a href=\"https://pr.report/12OgQCSX\">\n",
      "   www.aegiscapcorp.com\n",
      "  </a>\n",
      " </p>\n",
      " <p>\n",
      "  Brokerage and investment advisory services are offered through\n",
      "  <span class=\"xn-org\" xn:idsrc=\"xmltag.org\" xn:value=\"ACORN:2498663924\">\n",
      "   Aegis Capital Corporation\n",
      "  </span>\n",
      "  , a member of\n",
      "  <span class=\"xn-org\">\n",
      "   FINRA\n",
      "  </span>\n",
      "  and\n",
      "  <span class=\"xn-org\">\n",
      "   SIPC\n",
      "  </span>\n",
      "  . Investment and insurance products offered are not insured by the\n",
      "  <span class=\"xn-org\">\n",
      "   FDIC\n",
      "  </span>\n",
      "  or any other federal government agency, are not deposits or other obligations of, or guaranteed by, a bank or any bank affiliate, and are subject to investment risks, including possible loss of the principal amount invested.\n",
      " </p>\n",
      " <p>\n",
      "  <strong>\n",
      "   SOURCE:\n",
      "  </strong>\n",
      "  <span class=\"xn-org\" xn:idsrc=\"xmltag.org\" xn:value=\"ACORN:2498663924\">\n",
      "   Aegis Capital Corp.\n",
      "  </span>\n",
      " </p>\n",
      " <a href=\"http://accesswire.com\">\n",
      "  accesswire.com\n",
      " </a>\n",
      " <a href=\"https://www.accesswire.com/718499/Aegis-Capital-Corp-acted-as-Exclusive-Placement-Agent-on-a-6-Million-Private-Placement-Priced-At-the-Market-for-SOBR-Safe-Inc-NASDAQSOBR\">\n",
      "  https://www.accesswire.com/718499/Aegis-Capital-Corp-acted-as-Exclusive-Placement-Agent-on-a-6-Million-Private-Placement-Priced-At-the-Market-for-SOBR-Safe-Inc-NASDAQSOBR\n",
      " </a>\n",
      "</div>\n",
      "\n"
     ]
    }
   ],
   "source": [
    "print(soup.find('div', class_='body__content').prettify())"
   ]
  },
  {
   "cell_type": "markdown",
   "metadata": {},
   "source": [
    "There is content in the scrape. However, when scraping the Nasdaq search page, it returns none in the content."
   ]
  },
  {
   "cell_type": "code",
   "execution_count": 10,
   "metadata": {},
   "outputs": [],
   "source": [
    "# Search \"Nasdaq\" most recent article\n",
    "URL = 'https://www.nasdaq.com/search?q=nasdaq&page=1&sort_by=recent&filters=article&langcode=en'\n",
    "header = {\"User-Agent\": \"Mozilla/5.0 (X11; CrOS x86_64 12871.102.0) AppleWebKit/537.36 (KHTML, like Gecko) Chrome/81.0.4044.141 Safari/537.36\"}\n",
    "\n",
    "page_s = requests.get(URL, headers=header)\n",
    "soup_s = BeautifulSoup(page.content, 'html.parser')"
   ]
  },
  {
   "cell_type": "code",
   "execution_count": 12,
   "metadata": {},
   "outputs": [
    {
     "data": {
      "text/plain": [
       "[]"
      ]
     },
     "execution_count": 12,
     "metadata": {},
     "output_type": "execute_result"
    }
   ],
   "source": [
    "soup_s.find_all('div', 'search-results__results')"
   ]
  },
  {
   "cell_type": "markdown",
   "metadata": {},
   "source": [
    "The page is dynamically generated, I will use Selenium accessing the page for directly loading and saving the content. Before that, let's check out the newspaper3k library, which provides very good functionality in summarizing articles."
   ]
  },
  {
   "cell_type": "markdown",
   "metadata": {},
   "source": [
    "For models in huggingface, they are usually trained with maximum number of tokens (e.g. 512). If the articles is too long to be tokenized, some of the content may be cut off from the tail or head, that impacts the accuracy substantially."
   ]
  },
  {
   "cell_type": "markdown",
   "metadata": {},
   "source": [
    "Newspaper3k summarize articles in sentences, in which the top 5 most common sentences will be used to summarize the article."
   ]
  },
  {
   "cell_type": "markdown",
   "metadata": {},
   "source": [
    "### Basic newspaper3k.Article"
   ]
  },
  {
   "cell_type": "code",
   "execution_count": 14,
   "metadata": {},
   "outputs": [],
   "source": [
    "from newspaper import Article\n",
    "\n",
    "#summarize 2 articles from Nasdaq search\n",
    "urls = ['https://www.nasdaq.com/articles/market-close-report%3a-nasdaq-composite-index-closes-at-10815.44-up-239.82-points',\n",
    "    'https://www.nasdaq.com/articles/thrive-acquisition-corporation-nasdaq%3athac-is-favoured-by-institutional-owners-who-hold-50'\n",
    "]\n",
    "\n",
    "full_text = []\n",
    "summary = []\n",
    "\n",
    "for url in urls:\n",
    "    article = Article(url)\n",
    "    article.download()\n",
    "    article.parse()\n",
    "    article.nlp()\n",
    "    full_text.append(article.text)\n",
    "    summary.append(article.summary)"
   ]
  },
  {
   "cell_type": "code",
   "execution_count": 15,
   "metadata": {},
   "outputs": [
    {
     "data": {
      "text/plain": [
       "'Monday’s session closes with the NASDAQ Composite Index at 10,815.44.\\nThe most active, advancers, decliners, unusual volume and most active by dollar volume can be monitored intraday on theMost Active Stocks page.\\nThe NASDAQ 100 index closed up 2.36% for the day; a total of 258.51 points.\\nThe Dow Jones index closed up 2.66% for the day; a total of 765.38 points.\\nThe views and opinions expressed herein are the views and opinions of the author and do not necessarily reflect those of Nasdaq, Inc.'"
      ]
     },
     "execution_count": 15,
     "metadata": {},
     "output_type": "execute_result"
    }
   ],
   "source": [
    "summary[0]"
   ]
  },
  {
   "cell_type": "markdown",
   "metadata": {},
   "source": [
    "Observed that the \\n characters are not cleaned, may need extra text processing before applying for sentiment analysis."
   ]
  },
  {
   "cell_type": "markdown",
   "metadata": {},
   "source": [
    "### Using selenium"
   ]
  },
  {
   "cell_type": "code",
   "execution_count": 191,
   "metadata": {},
   "outputs": [],
   "source": [
    "from selenium import webdriver\n",
    "from bs4 import BeautifulSoup\n",
    "from selenium.webdriver.chrome.options import Options\n",
    "from webdriver_manager.chrome import ChromeDriverManager\n",
    "from datetime import date as d, timedelta as dt"
   ]
  },
  {
   "cell_type": "code",
   "execution_count": 204,
   "metadata": {},
   "outputs": [],
   "source": [
    "# function that gets the source code of the page \n",
    "def nasdaq_src(page):\n",
    "    page = page\n",
    "    search_term = 'nasdaq'\n",
    "    filters = '&filters=article'\n",
    "\n",
    "    url = f'https://www.nasdaq.com/search?q={search_term}&page={page}&sort_by=recent{filters}&langcode=en'\n",
    "    path = \"C:\\Program Files (x86)\\chromedriver.exe\"\n",
    "    user_agent = 'Mozilla/5.0 (X11; Linux x86_64) AppleWebKit/537.36 (KHTML, like Gecko) Chrome/60.0.3112.50 Safari/537.36'    \n",
    "    \n",
    "    options = Options()\n",
    "    options.add_argument(\"--headless\")\n",
    "    options.add_argument(f'user-agent={user_agent}')\n",
    "\n",
    "    driver = webdriver.Chrome(path, options=options)\n",
    "    driver.get(url)\n",
    "    content = driver.page_source\n",
    "    driver.quit()\n",
    "    \n",
    "    return BeautifulSoup(content)"
   ]
  },
  {
   "cell_type": "code",
   "execution_count": 166,
   "metadata": {},
   "outputs": [],
   "source": [
    "# function that scrape links given the source code of the page\n",
    "def nasdaq_links(soup):\n",
    "    results = soup.html.find_all('a', class_='search-results__item')\n",
    "    links = []\n",
    "    pre_date = (d.today()- dt(1)).strftime('%b %d, %Y')\n",
    "    match = False\n",
    "\n",
    "    for result in results:\n",
    "        date = result.find(class_='search-results__type').text\n",
    "        if date == pre_date:\n",
    "            match = True\n",
    "            title = result.find(class_='search-results__text').text\n",
    "            if '(NASDAQ:' not in title:\n",
    "                links.append('https://www.nasdaq.com'+result['href'])\n",
    "\n",
    "    return links, match"
   ]
  },
  {
   "cell_type": "code",
   "execution_count": 164,
   "metadata": {},
   "outputs": [
    {
     "name": "stdout",
     "output_type": "stream",
     "text": [
      "finished page 2\n",
      "finished page 3\n",
      "finished page 4\n",
      "finished page 5\n",
      "finished page 6\n",
      "finished page 7\n",
      "finished page 8\n",
      "finished page 9\n",
      "finished page 10\n"
     ]
    }
   ],
   "source": [
    "# loop through pages until no latest news is found\n",
    "match = True\n",
    "page = 1\n",
    "link_list = {}\n",
    "\n",
    "while match:\n",
    "    soup = nasdaq_src(page)\n",
    "    links, match = nasdaq_links(soup)\n",
    "    link_list[page] = links\n",
    "    print(f'finished page {page}')\n",
    "    page += 1"
   ]
  },
  {
   "cell_type": "code",
   "execution_count": 165,
   "metadata": {},
   "outputs": [
    {
     "data": {
      "text/plain": [
       "{1: ['https://www.nasdaq.com//articles/market-close-report%3a-nasdaq-composite-index-closes-above-11000-up-360.97-points-at-11176',\n",
       "  'https://www.nasdaq.com//articles/nasdaqs-purpose-in-action%3a-spotlighting-entrepreneurship-with-raychel-wilson-ceo-and'],\n",
       " 2: ['https://www.nasdaq.com//articles/us-stocks-nasdaq-jumps-as-easing-treasury-yields-lift-growth-stocks-twitter-surges'],\n",
       " 3: ['https://www.nasdaq.com//articles/nasdaq-100-movers%3a-regn-ilmn'],\n",
       " 4: ['https://www.nasdaq.com//articles/us-stocks-growth-stocks-lift-nasdaq-3-as-treasury-yields-ease',\n",
       "  'https://www.nasdaq.com//articles/why-rivian-revved-up-the-nasdaq-tuesday'],\n",
       " 5: ['https://www.nasdaq.com//articles/us-stocks-snapshot-nasdaq-jumps-2-at-open-as-treasury-yields-ease'],\n",
       " 6: [],\n",
       " 7: ['https://www.nasdaq.com//articles/is-direxion-monthly-nasdaq-100-bull-1.75x-investor-dxqlx-a-strong-mutual-fund-pick-right',\n",
       "  'https://www.nasdaq.com//articles/better-buy%3a-apple-stock-or-the-entire-nasdaq',\n",
       "  'https://www.nasdaq.com//articles/the-nasdaq-is-plunging%3a-4-no-brainer-stocks-to-buy-with-%24200-right-now'],\n",
       " 8: [],\n",
       " 9: []}"
      ]
     },
     "execution_count": 165,
     "metadata": {},
     "output_type": "execute_result"
    }
   ],
   "source": [
    "link_list"
   ]
  },
  {
   "cell_type": "markdown",
   "metadata": {},
   "source": [
    "##### Improvement\n",
    "- the time consumption is too expansive to get few links in Nasdaq page (tested other pages seem faster compare to Nasdaq page), code need to optimized\n",
    "- functions are not utilized to perform complicated scraping, only focus on Nasdaq page and certain search term and filters\n",
    "- include other news source"
   ]
  }
 ],
 "metadata": {
  "kernelspec": {
   "display_name": "Python 3.9.7 ('base')",
   "language": "python",
   "name": "python3"
  },
  "language_info": {
   "codemirror_mode": {
    "name": "ipython",
    "version": 3
   },
   "file_extension": ".py",
   "mimetype": "text/x-python",
   "name": "python",
   "nbconvert_exporter": "python",
   "pygments_lexer": "ipython3",
   "version": "3.9.7"
  },
  "orig_nbformat": 4,
  "vscode": {
   "interpreter": {
    "hash": "6adfa4b3945d2769b4c7e7952672dd1ae04eeab03658e4b73feff72df6416cba"
   }
  }
 },
 "nbformat": 4,
 "nbformat_minor": 2
}
