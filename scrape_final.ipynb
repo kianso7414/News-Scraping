{
 "cells": [
  {
   "cell_type": "code",
   "execution_count": 2,
   "metadata": {},
   "outputs": [],
   "source": [
    "import requests\n",
    "import pandas as pd\n",
    "from bs4 import BeautifulSoup\n",
    "from datetime import date as d, timedelta as dt\n",
    "from newspaper import Article, Config"
   ]
  },
  {
   "cell_type": "code",
   "execution_count": 5,
   "metadata": {},
   "outputs": [],
   "source": [
    "# may have result pages less than 2\n",
    "# google links that contains 10 news per page\n",
    "search_urls = {}\n",
    "\n",
    "# search a year, 2 pages per day\n",
    "for dr in range(365):\n",
    "    date = (d.today() - dt(dr)).strftime('%m/%d/%Y')\n",
    "    search_urls[f'{date}'] = [f'https://www.google.com/search?q=stock+market&source=lnt&tbs=cdr%3A1%2Ccd_min%3A{date}%2Ccd_max%3A{date}&tbm=nws&start={page*10}' for page in range(2)]\n",
    "\n"
   ]
  },
  {
   "cell_type": "code",
   "execution_count": 60,
   "metadata": {},
   "outputs": [],
   "source": [
    "from tqdm import tqdm"
   ]
  },
  {
   "cell_type": "code",
   "execution_count": 15,
   "metadata": {},
   "outputs": [
    {
     "name": "stderr",
     "output_type": "stream",
     "text": [
      "100%|██████████| 365/365 [06:40<00:00,  1.10s/it]\n"
     ]
    }
   ],
   "source": [
    "header = {\"User-Agent\": \"Mozilla/5.0 (X11; CrOS x86_64 12871.102.0) AppleWebKit/537.36 (KHTML, like Gecko) Chrome/81.0.4044.141 Safari/537.36\"}\n",
    "news_urls = {}\n",
    "\n",
    "# get all news links by date\n",
    "for date, urls in tqdm(search_urls.items()):\n",
    "    page = [requests.get(url, headers=header) for url in urls]\n",
    "    soup = [BeautifulSoup(p.content, 'html.parser') for p in page]\n",
    "    main = [i.find_all('a', class_='WlydOe') for i in soup]\n",
    "\n",
    "    all_in_a_day = []\n",
    "    \n",
    "    for i in main:\n",
    "        all_in_a_day += [j['href'] for j in i]\n",
    "    news_urls[f'{date}'] = all_in_a_day\n"
   ]
  },
  {
   "cell_type": "code",
   "execution_count": 16,
   "metadata": {},
   "outputs": [
    {
     "name": "stderr",
     "output_type": "stream",
     "text": [
      "  7%|▋         | 24/365 [08:41<2:21:16, 24.86s/it]c:\\Users\\kian\\anaconda3\\lib\\site-packages\\dateutil\\parser\\_parser.py:1207: UnknownTimezoneWarning: tzname PST identified but not understood.  Pass `tzinfos` argument in order to correctly return a timezone-aware datetime.  In a future version, this will raise an exception.\n",
      "  warnings.warn(\"tzname {tzname} identified but not understood.  \"\n",
      "  9%|▉         | 33/365 [12:32<2:07:31, 23.05s/it]c:\\Users\\kian\\anaconda3\\lib\\site-packages\\dateutil\\parser\\_parser.py:1207: UnknownTimezoneWarning: tzname CDT identified but not understood.  Pass `tzinfos` argument in order to correctly return a timezone-aware datetime.  In a future version, this will raise an exception.\n",
      "  warnings.warn(\"tzname {tzname} identified but not understood.  \"\n",
      " 59%|█████▉    | 215/365 [1:10:05<51:12, 20.48s/it]  c:\\Users\\kian\\anaconda3\\lib\\site-packages\\dateutil\\parser\\_parser.py:1207: UnknownTimezoneWarning: tzname CST identified but not understood.  Pass `tzinfos` argument in order to correctly return a timezone-aware datetime.  In a future version, this will raise an exception.\n",
      "  warnings.warn(\"tzname {tzname} identified but not understood.  \"\n",
      "100%|██████████| 365/365 [1:41:50<00:00, 16.74s/it]\n"
     ]
    }
   ],
   "source": [
    "config = Config()\n",
    "config.MAX_SUMMARY_SENT = 10\n",
    "\n",
    "dates = []\n",
    "urls = []\n",
    "full_text = []\n",
    "summary = []\n",
    "\n",
    "# get summary and full text from each news link\n",
    "for date, news_urls in tqdm(news_urls.items()):\n",
    "    for url in news_urls:\n",
    "        try:\n",
    "            article = Article(url, config=config)\n",
    "            article.download()\n",
    "            article.parse()\n",
    "            article.nlp()\n",
    "            s = article.summary\n",
    "            if len(s) >= 500:\n",
    "                dates.append(date)\n",
    "                urls.append(url)\n",
    "                full_text.append(article.text)\n",
    "                summary.append(s)\n",
    "        except:\n",
    "            continue\n",
    "\n"
   ]
  },
  {
   "cell_type": "code",
   "execution_count": 17,
   "metadata": {},
   "outputs": [],
   "source": [
    "k = pd.DataFrame({'date': dates, 'url': urls, 'full_text': full_text, 'summary': summary})"
   ]
  },
  {
   "cell_type": "code",
   "execution_count": 18,
   "metadata": {},
   "outputs": [
    {
     "data": {
      "text/html": [
       "<div>\n",
       "<style scoped>\n",
       "    .dataframe tbody tr th:only-of-type {\n",
       "        vertical-align: middle;\n",
       "    }\n",
       "\n",
       "    .dataframe tbody tr th {\n",
       "        vertical-align: top;\n",
       "    }\n",
       "\n",
       "    .dataframe thead th {\n",
       "        text-align: right;\n",
       "    }\n",
       "</style>\n",
       "<table border=\"1\" class=\"dataframe\">\n",
       "  <thead>\n",
       "    <tr style=\"text-align: right;\">\n",
       "      <th></th>\n",
       "      <th>date</th>\n",
       "      <th>url</th>\n",
       "      <th>full_text</th>\n",
       "      <th>summary</th>\n",
       "    </tr>\n",
       "  </thead>\n",
       "  <tbody>\n",
       "    <tr>\n",
       "      <th>0</th>\n",
       "      <td>10/08/2022</td>\n",
       "      <td>https://www.livemint.com/market/stock-market-n...</td>\n",
       "      <td>Have you read your account statements for the ...</td>\n",
       "      <td>And it’s natural to avoid looking too closely ...</td>\n",
       "    </tr>\n",
       "    <tr>\n",
       "      <th>1</th>\n",
       "      <td>10/08/2022</td>\n",
       "      <td>https://www.zawya.com/en/markets/equities/wall...</td>\n",
       "      <td>Wall Street fell sharply on Friday following a...</td>\n",
       "      <td>Nonfarm payrolls rose by 263,000 jobs, more th...</td>\n",
       "    </tr>\n",
       "    <tr>\n",
       "      <th>2</th>\n",
       "      <td>10/08/2022</td>\n",
       "      <td>https://www.goodisonnews.com/2022/10/08/stock-...</td>\n",
       "      <td>By Matthew Shaw 8th Oct, 2022 | 8:10am\\n\\nStoc...</td>\n",
       "      <td>By Matthew Shaw 8th Oct, 2022 | 8:10amStock ma...</td>\n",
       "    </tr>\n",
       "    <tr>\n",
       "      <th>3</th>\n",
       "      <td>10/08/2022</td>\n",
       "      <td>https://www.livemint.com/market/stock-market-n...</td>\n",
       "      <td>Stock split 2022: The board of directors of An...</td>\n",
       "      <td>Stock split 2022: The board of directors of An...</td>\n",
       "    </tr>\n",
       "    <tr>\n",
       "      <th>4</th>\n",
       "      <td>10/08/2022</td>\n",
       "      <td>https://finance.yahoo.com/news/crypto-exchange...</td>\n",
       "      <td>(Reuters) - Cryptocurrency exchange Huobi Glob...</td>\n",
       "      <td>(Reuters) - Cryptocurrency exchange Huobi Glob...</td>\n",
       "    </tr>\n",
       "    <tr>\n",
       "      <th>...</th>\n",
       "      <td>...</td>\n",
       "      <td>...</td>\n",
       "      <td>...</td>\n",
       "      <td>...</td>\n",
       "    </tr>\n",
       "    <tr>\n",
       "      <th>4052</th>\n",
       "      <td>12/01/2021</td>\n",
       "      <td>https://www.aarp.org/money/investing/info-2021...</td>\n",
       "      <td>Matthew Salacuse\\n\\nEn español\\n\\nFor 16 years...</td>\n",
       "      <td>Matthew SalacuseEn españolFor 16 years, the ex...</td>\n",
       "    </tr>\n",
       "    <tr>\n",
       "      <th>4053</th>\n",
       "      <td>12/01/2021</td>\n",
       "      <td>https://fortune.com/2021/12/01/stock-market-pu...</td>\n",
       "      <td>Dante had nine circles of hell in his Inferno,...</td>\n",
       "      <td>Dante had nine circles of hell in his Inferno,...</td>\n",
       "    </tr>\n",
       "    <tr>\n",
       "      <th>4054</th>\n",
       "      <td>12/01/2021</td>\n",
       "      <td>https://www.fool.com/investing/2021/12/01/3-re...</td>\n",
       "      <td>Pfizer (PFE -1.79%) has been the second-best-p...</td>\n",
       "      <td>Pfizer (PFE -1.79%) has been the second-best-p...</td>\n",
       "    </tr>\n",
       "    <tr>\n",
       "      <th>4055</th>\n",
       "      <td>12/01/2021</td>\n",
       "      <td>https://www.globenewswire.com/news-release/202...</td>\n",
       "      <td>Global leader in Connected TV ad delivery and ...</td>\n",
       "      <td>According to eMarketer, CTV ad spend will reac...</td>\n",
       "    </tr>\n",
       "    <tr>\n",
       "      <th>4056</th>\n",
       "      <td>12/01/2021</td>\n",
       "      <td>https://www.aarp.org/money/investing/info-2021...</td>\n",
       "      <td>iStock / Getty Images\\n\\nEn español\\n\\nIf you ...</td>\n",
       "      <td>iStock / Getty ImagesEn españolIf you had brou...</td>\n",
       "    </tr>\n",
       "  </tbody>\n",
       "</table>\n",
       "<p>4057 rows × 4 columns</p>\n",
       "</div>"
      ],
      "text/plain": [
       "            date                                                url  \\\n",
       "0     10/08/2022  https://www.livemint.com/market/stock-market-n...   \n",
       "1     10/08/2022  https://www.zawya.com/en/markets/equities/wall...   \n",
       "2     10/08/2022  https://www.goodisonnews.com/2022/10/08/stock-...   \n",
       "3     10/08/2022  https://www.livemint.com/market/stock-market-n...   \n",
       "4     10/08/2022  https://finance.yahoo.com/news/crypto-exchange...   \n",
       "...          ...                                                ...   \n",
       "4052  12/01/2021  https://www.aarp.org/money/investing/info-2021...   \n",
       "4053  12/01/2021  https://fortune.com/2021/12/01/stock-market-pu...   \n",
       "4054  12/01/2021  https://www.fool.com/investing/2021/12/01/3-re...   \n",
       "4055  12/01/2021  https://www.globenewswire.com/news-release/202...   \n",
       "4056  12/01/2021  https://www.aarp.org/money/investing/info-2021...   \n",
       "\n",
       "                                              full_text  \\\n",
       "0     Have you read your account statements for the ...   \n",
       "1     Wall Street fell sharply on Friday following a...   \n",
       "2     By Matthew Shaw 8th Oct, 2022 | 8:10am\\n\\nStoc...   \n",
       "3     Stock split 2022: The board of directors of An...   \n",
       "4     (Reuters) - Cryptocurrency exchange Huobi Glob...   \n",
       "...                                                 ...   \n",
       "4052  Matthew Salacuse\\n\\nEn español\\n\\nFor 16 years...   \n",
       "4053  Dante had nine circles of hell in his Inferno,...   \n",
       "4054  Pfizer (PFE -1.79%) has been the second-best-p...   \n",
       "4055  Global leader in Connected TV ad delivery and ...   \n",
       "4056  iStock / Getty Images\\n\\nEn español\\n\\nIf you ...   \n",
       "\n",
       "                                                summary  \n",
       "0     And it’s natural to avoid looking too closely ...  \n",
       "1     Nonfarm payrolls rose by 263,000 jobs, more th...  \n",
       "2     By Matthew Shaw 8th Oct, 2022 | 8:10amStock ma...  \n",
       "3     Stock split 2022: The board of directors of An...  \n",
       "4     (Reuters) - Cryptocurrency exchange Huobi Glob...  \n",
       "...                                                 ...  \n",
       "4052  Matthew SalacuseEn españolFor 16 years, the ex...  \n",
       "4053  Dante had nine circles of hell in his Inferno,...  \n",
       "4054  Pfizer (PFE -1.79%) has been the second-best-p...  \n",
       "4055  According to eMarketer, CTV ad spend will reac...  \n",
       "4056  iStock / Getty ImagesEn españolIf you had brou...  \n",
       "\n",
       "[4057 rows x 4 columns]"
      ]
     },
     "execution_count": 18,
     "metadata": {},
     "output_type": "execute_result"
    }
   ],
   "source": [
    "k"
   ]
  },
  {
   "cell_type": "markdown",
   "metadata": {},
   "source": [
    "### Improvement\n",
    "- the script runs for 2 hours to scrape 365 days of data\n",
    "- there are only 312 unique dates\n",
    "- different numbers of unique url, summary, full_text, meaning some replicated news in different websites\n",
    "- or the requests were blocked by paywall, reporting same text\n",
    "- raw text is not cleaned"
   ]
  },
  {
   "cell_type": "markdown",
   "metadata": {},
   "source": [
    "#### Undate about the dates\n",
    "- found that dates only contained up to Dec 2021\n",
    "- the requests are block by google (response 429)"
   ]
  },
  {
   "cell_type": "markdown",
   "metadata": {},
   "source": [
    "### Try to search again on dates that are missing after unblock"
   ]
  },
  {
   "cell_type": "code",
   "execution_count": 3,
   "metadata": {},
   "outputs": [],
   "source": [
    "saved = pd.read_csv('news.csv')\n",
    "saved_dates = saved.date.unique()"
   ]
  },
  {
   "cell_type": "code",
   "execution_count": 6,
   "metadata": {},
   "outputs": [],
   "source": [
    "all_dates = [key for key, v in search_urls.items()]\n",
    "date_missing = [i for i in all_dates if i not in saved_dates]"
   ]
  },
  {
   "cell_type": "code",
   "execution_count": 56,
   "metadata": {},
   "outputs": [],
   "source": [
    "urls_missing = {}\n",
    "\n",
    "for day in date_missing:\n",
    "    urls_missing[f'{day}'] = search_urls[f'{day}']"
   ]
  },
  {
   "cell_type": "code",
   "execution_count": 61,
   "metadata": {},
   "outputs": [
    {
     "name": "stderr",
     "output_type": "stream",
     "text": [
      "100%|██████████| 53/53 [00:54<00:00,  1.02s/it]\n"
     ]
    }
   ],
   "source": [
    "header = {\"User-Agent\": \"Mozilla/5.0 (X11; CrOS x86_64 12871.102.0) AppleWebKit/537.36 (KHTML, like Gecko) Chrome/81.0.4044.141 Safari/537.36\"}\n",
    "news_urls = {}\n",
    "\n",
    "\n",
    "for date, urls in tqdm(urls_missing.items()):\n",
    "    page = [requests.get(url, headers=header) for url in urls]\n",
    "    soup = [BeautifulSoup(p.content, 'html.parser') for p in page]\n",
    "    main = [i.find_all('a', class_='WlydOe') for i in soup]\n",
    "\n",
    "    all_in_a_day = []\n",
    "    \n",
    "    for i in main:\n",
    "        all_in_a_day += [j['href'] for j in i]\n",
    "    news_urls[f'{date}'] = all_in_a_day"
   ]
  },
  {
   "cell_type": "code",
   "execution_count": 63,
   "metadata": {},
   "outputs": [
    {
     "name": "stderr",
     "output_type": "stream",
     "text": [
      " 13%|█▎        | 7/53 [02:22<16:20, 21.31s/it]c:\\Users\\kian\\anaconda3\\lib\\site-packages\\dateutil\\parser\\_parser.py:1207: UnknownTimezoneWarning: tzname PST identified but not understood.  Pass `tzinfos` argument in order to correctly return a timezone-aware datetime.  In a future version, this will raise an exception.\n",
      "  warnings.warn(\"tzname {tzname} identified but not understood.  \"\n",
      "100%|██████████| 53/53 [16:49<00:00, 19.04s/it]\n"
     ]
    }
   ],
   "source": [
    "config = Config()\n",
    "config.MAX_SUMMARY_SENT = 10\n",
    "\n",
    "dates = []\n",
    "urls = []\n",
    "full_text = []\n",
    "summary = []\n",
    "\n",
    "for date, news_urls in tqdm(news_urls.items()):\n",
    "    for url in news_urls:\n",
    "        try:\n",
    "            article = Article(url, config=config)\n",
    "            article.download()\n",
    "            article.parse()\n",
    "            article.nlp()\n",
    "            s = article.summary\n",
    "            if len(s) >= 500:\n",
    "                dates.append(date)\n",
    "                urls.append(url)\n",
    "                full_text.append(article.text)\n",
    "                summary.append(s)\n",
    "        except:\n",
    "            continue"
   ]
  },
  {
   "cell_type": "code",
   "execution_count": 64,
   "metadata": {},
   "outputs": [],
   "source": [
    "news_missing = pd.DataFrame({'date': dates, 'url': urls, 'full_text': full_text, 'summary': summary})"
   ]
  },
  {
   "cell_type": "code",
   "execution_count": 71,
   "metadata": {},
   "outputs": [],
   "source": [
    "new_save = pd.concat([saved, news_missing]).iloc[:, 2:]\n",
    "\n",
    "new_save.to_csv('news.csv')"
   ]
  },
  {
   "cell_type": "code",
   "execution_count": 72,
   "metadata": {},
   "outputs": [
    {
     "data": {
      "text/html": [
       "<div>\n",
       "<style scoped>\n",
       "    .dataframe tbody tr th:only-of-type {\n",
       "        vertical-align: middle;\n",
       "    }\n",
       "\n",
       "    .dataframe tbody tr th {\n",
       "        vertical-align: top;\n",
       "    }\n",
       "\n",
       "    .dataframe thead th {\n",
       "        text-align: right;\n",
       "    }\n",
       "</style>\n",
       "<table border=\"1\" class=\"dataframe\">\n",
       "  <thead>\n",
       "    <tr style=\"text-align: right;\">\n",
       "      <th></th>\n",
       "      <th>date</th>\n",
       "      <th>url</th>\n",
       "      <th>full_text</th>\n",
       "      <th>summary</th>\n",
       "    </tr>\n",
       "  </thead>\n",
       "  <tbody>\n",
       "    <tr>\n",
       "      <th>0</th>\n",
       "      <td>10/08/2022</td>\n",
       "      <td>https://www.livemint.com/market/stock-market-n...</td>\n",
       "      <td>Have you read your account statements for the ...</td>\n",
       "      <td>And it’s natural to avoid looking too closely ...</td>\n",
       "    </tr>\n",
       "    <tr>\n",
       "      <th>1</th>\n",
       "      <td>10/08/2022</td>\n",
       "      <td>https://www.zawya.com/en/markets/equities/wall...</td>\n",
       "      <td>Wall Street fell sharply on Friday following a...</td>\n",
       "      <td>Nonfarm payrolls rose by 263,000 jobs, more th...</td>\n",
       "    </tr>\n",
       "    <tr>\n",
       "      <th>2</th>\n",
       "      <td>10/08/2022</td>\n",
       "      <td>https://www.goodisonnews.com/2022/10/08/stock-...</td>\n",
       "      <td>By Matthew Shaw 8th Oct, 2022 | 8:10am\\n\\nStoc...</td>\n",
       "      <td>By Matthew Shaw 8th Oct, 2022 | 8:10amStock ma...</td>\n",
       "    </tr>\n",
       "    <tr>\n",
       "      <th>3</th>\n",
       "      <td>10/08/2022</td>\n",
       "      <td>https://www.livemint.com/market/stock-market-n...</td>\n",
       "      <td>Stock split 2022: The board of directors of An...</td>\n",
       "      <td>Stock split 2022: The board of directors of An...</td>\n",
       "    </tr>\n",
       "    <tr>\n",
       "      <th>4</th>\n",
       "      <td>10/08/2022</td>\n",
       "      <td>https://finance.yahoo.com/news/crypto-exchange...</td>\n",
       "      <td>(Reuters) - Cryptocurrency exchange Huobi Glob...</td>\n",
       "      <td>(Reuters) - Cryptocurrency exchange Huobi Glob...</td>\n",
       "    </tr>\n",
       "    <tr>\n",
       "      <th>...</th>\n",
       "      <td>...</td>\n",
       "      <td>...</td>\n",
       "      <td>...</td>\n",
       "      <td>...</td>\n",
       "    </tr>\n",
       "    <tr>\n",
       "      <th>637</th>\n",
       "      <td>10/09/2021</td>\n",
       "      <td>https://www.fool.com/investing/2021/10/09/shou...</td>\n",
       "      <td>After an incredible 18 months of growth, the s...</td>\n",
       "      <td>After an incredible 18 months of growth, the s...</td>\n",
       "    </tr>\n",
       "    <tr>\n",
       "      <th>638</th>\n",
       "      <td>10/09/2021</td>\n",
       "      <td>https://www.fool.com/investing/2021/10/09/when...</td>\n",
       "      <td>It's an immutable fact that the stock market i...</td>\n",
       "      <td>It's an immutable fact that the stock market i...</td>\n",
       "    </tr>\n",
       "    <tr>\n",
       "      <th>639</th>\n",
       "      <td>10/09/2021</td>\n",
       "      <td>https://abcnews.go.com/Business/stocks-soar-hi...</td>\n",
       "      <td>One overvaluation indicator is higher than it ...</td>\n",
       "      <td>The stock market has been a roller coaster rid...</td>\n",
       "    </tr>\n",
       "    <tr>\n",
       "      <th>640</th>\n",
       "      <td>10/09/2021</td>\n",
       "      <td>https://www.fool.com/investing/2021/10/09/this...</td>\n",
       "      <td>Real estate tech company and iBuyer Opendoor T...</td>\n",
       "      <td>This move could mean that the race to change t...</td>\n",
       "    </tr>\n",
       "    <tr>\n",
       "      <th>641</th>\n",
       "      <td>10/09/2021</td>\n",
       "      <td>https://www.fool.com/investing/2021/10/09/why-...</td>\n",
       "      <td>Unity Software (U -8.59%) is the company behin...</td>\n",
       "      <td>Unity Software (U -8.59%) is the company behin...</td>\n",
       "    </tr>\n",
       "  </tbody>\n",
       "</table>\n",
       "<p>4699 rows × 4 columns</p>\n",
       "</div>"
      ],
      "text/plain": [
       "           date                                                url  \\\n",
       "0    10/08/2022  https://www.livemint.com/market/stock-market-n...   \n",
       "1    10/08/2022  https://www.zawya.com/en/markets/equities/wall...   \n",
       "2    10/08/2022  https://www.goodisonnews.com/2022/10/08/stock-...   \n",
       "3    10/08/2022  https://www.livemint.com/market/stock-market-n...   \n",
       "4    10/08/2022  https://finance.yahoo.com/news/crypto-exchange...   \n",
       "..          ...                                                ...   \n",
       "637  10/09/2021  https://www.fool.com/investing/2021/10/09/shou...   \n",
       "638  10/09/2021  https://www.fool.com/investing/2021/10/09/when...   \n",
       "639  10/09/2021  https://abcnews.go.com/Business/stocks-soar-hi...   \n",
       "640  10/09/2021  https://www.fool.com/investing/2021/10/09/this...   \n",
       "641  10/09/2021  https://www.fool.com/investing/2021/10/09/why-...   \n",
       "\n",
       "                                             full_text  \\\n",
       "0    Have you read your account statements for the ...   \n",
       "1    Wall Street fell sharply on Friday following a...   \n",
       "2    By Matthew Shaw 8th Oct, 2022 | 8:10am\\n\\nStoc...   \n",
       "3    Stock split 2022: The board of directors of An...   \n",
       "4    (Reuters) - Cryptocurrency exchange Huobi Glob...   \n",
       "..                                                 ...   \n",
       "637  After an incredible 18 months of growth, the s...   \n",
       "638  It's an immutable fact that the stock market i...   \n",
       "639  One overvaluation indicator is higher than it ...   \n",
       "640  Real estate tech company and iBuyer Opendoor T...   \n",
       "641  Unity Software (U -8.59%) is the company behin...   \n",
       "\n",
       "                                               summary  \n",
       "0    And it’s natural to avoid looking too closely ...  \n",
       "1    Nonfarm payrolls rose by 263,000 jobs, more th...  \n",
       "2    By Matthew Shaw 8th Oct, 2022 | 8:10amStock ma...  \n",
       "3    Stock split 2022: The board of directors of An...  \n",
       "4    (Reuters) - Cryptocurrency exchange Huobi Glob...  \n",
       "..                                                 ...  \n",
       "637  After an incredible 18 months of growth, the s...  \n",
       "638  It's an immutable fact that the stock market i...  \n",
       "639  The stock market has been a roller coaster rid...  \n",
       "640  This move could mean that the race to change t...  \n",
       "641  Unity Software (U -8.59%) is the company behin...  \n",
       "\n",
       "[4699 rows x 4 columns]"
      ]
     },
     "execution_count": 72,
     "metadata": {},
     "output_type": "execute_result"
    }
   ],
   "source": [
    "new_save"
   ]
  },
  {
   "cell_type": "markdown",
   "metadata": {},
   "source": [
    "### Get SP500, Nasdaq, DJIA by date "
   ]
  },
  {
   "cell_type": "markdown",
   "metadata": {},
   "source": []
  }
 ],
 "metadata": {
  "kernelspec": {
   "display_name": "Python 3.9.7 ('base')",
   "language": "python",
   "name": "python3"
  },
  "language_info": {
   "codemirror_mode": {
    "name": "ipython",
    "version": 3
   },
   "file_extension": ".py",
   "mimetype": "text/x-python",
   "name": "python",
   "nbconvert_exporter": "python",
   "pygments_lexer": "ipython3",
   "version": "3.9.7"
  },
  "orig_nbformat": 4,
  "vscode": {
   "interpreter": {
    "hash": "6adfa4b3945d2769b4c7e7952672dd1ae04eeab03658e4b73feff72df6416cba"
   }
  }
 },
 "nbformat": 4,
 "nbformat_minor": 2
}
